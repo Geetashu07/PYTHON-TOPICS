{
 "cells": [
  {
   "cell_type": "code",
   "execution_count": 10,
   "id": "3d41a574",
   "metadata": {},
   "outputs": [
    {
     "name": "stdout",
     "output_type": "stream",
     "text": [
      " Volume in drive C is Windows-SSD\n",
      " Volume Serial Number is 82E4-F413\n",
      "\n",
      " Directory of C:\\Users\\Vishwamohan\\Desktop\\PYTHON\n",
      "\n",
      "28-12-2022  21:23    <DIR>          .\n",
      "26-12-2022  20:46    <DIR>          ..\n",
      "28-12-2022  21:12    <DIR>          .ipynb_checkpoints\n",
      "28-12-2022  20:55            14,449 Exception handeling.ipynb\n",
      "28-12-2022  21:23             3,041 File handling , iterator and generator.ipynb\n",
      "26-12-2022  17:17             9,978 Functions.ipynb\n",
      "28-12-2022  20:57            10,486 New small concepts.ipynb\n",
      "28-12-2022  21:17               148 Testing.txt\n",
      "26-12-2022  12:24            12,633 Type cast and exception .ipynb\n",
      "26-12-2022  08:49               747 Untitled.ipynb\n",
      "26-12-2022  20:41               589 Untitled1.ipynb\n",
      "               8 File(s)         52,071 bytes\n",
      "               3 Dir(s)  390,198,079,488 bytes free\n"
     ]
    }
   ],
   "source": [
    "%ls\n",
    "#ls= list    -------> Its will show you all the files present in you current diractory"
   ]
  },
  {
   "cell_type": "code",
   "execution_count": 6,
   "id": "c34d03ea",
   "metadata": {},
   "outputs": [
    {
     "data": {
      "text/plain": [
       "'C:\\\\Users\\\\Vishwamohan\\\\Desktop\\\\PYTHON'"
      ]
     },
     "execution_count": 6,
     "metadata": {},
     "output_type": "execute_result"
    }
   ],
   "source": [
    "pwd()\n",
    "#pwd=print working directory -->It will print the working diractory(means it will show the path where u are present right now)"
   ]
  },
  {
   "cell_type": "code",
   "execution_count": 7,
   "id": "74633080",
   "metadata": {},
   "outputs": [],
   "source": [
    "#Use to open file\n",
    "f=open(\"Testing.Txt\")"
   ]
  },
  {
   "cell_type": "code",
   "execution_count": 8,
   "id": "9e22e642",
   "metadata": {},
   "outputs": [
    {
     "data": {
      "text/plain": [
       "_io.TextIOWrapper"
      ]
     },
     "execution_count": 8,
     "metadata": {},
     "output_type": "execute_result"
    }
   ],
   "source": [
    "type(f)"
   ]
  },
  {
   "cell_type": "code",
   "execution_count": 9,
   "id": "9b8d37df",
   "metadata": {},
   "outputs": [],
   "source": [
    "#To check the propertiesa assotiated with this file is , just write f. and press Tab\n",
    "f.close()\n",
    "\n",
    "#Important note is that whenever you are opening a file make sure you need to close it"
   ]
  },
  {
   "cell_type": "code",
   "execution_count": 11,
   "id": "55189f31",
   "metadata": {},
   "outputs": [],
   "source": [
    "#In case you are working in different diractory but you want to open file in other director \n",
    "#p=open(r\"C:\\Users\\Vishwamohan\\Desktop\\PYTHON\",r) --> last r is basically use to open the file in read mode but even if u not \n",
    "#put this r bydefault it will get open in read only mode"
   ]
  },
  {
   "cell_type": "code",
   "execution_count": 13,
   "id": "3a0f6d5d",
   "metadata": {},
   "outputs": [],
   "source": [
    "f=open(\"Testing.Txt\")"
   ]
  },
  {
   "cell_type": "code",
   "execution_count": 14,
   "id": "2c9b32b3",
   "metadata": {},
   "outputs": [
    {
     "data": {
      "text/plain": [
       "'Hi! Geetanshu Singh Negi,\\nHow are you man, I know you are working hard to achieve your goals..\\nDefinetely you will get paid off for your hardwork.'"
      ]
     },
     "execution_count": 14,
     "metadata": {},
     "output_type": "execute_result"
    }
   ],
   "source": [
    "f.read()"
   ]
  },
  {
   "cell_type": "code",
   "execution_count": 15,
   "id": "a7f6b5b0",
   "metadata": {},
   "outputs": [
    {
     "data": {
      "text/plain": [
       "''"
      ]
     },
     "execution_count": 15,
     "metadata": {},
     "output_type": "execute_result"
    }
   ],
   "source": [
    "f.read(4)\n",
    "#why is it showing '' , because the cursor is in the last as we have already read it that is why it is showing ''"
   ]
  },
  {
   "cell_type": "code",
   "execution_count": 16,
   "id": "428b277f",
   "metadata": {},
   "outputs": [
    {
     "data": {
      "text/plain": [
       "''"
      ]
     },
     "execution_count": 16,
     "metadata": {},
     "output_type": "execute_result"
    }
   ],
   "source": [
    "#How to bring back the curson to the begining\n",
    "f.read(15)"
   ]
  },
  {
   "cell_type": "code",
   "execution_count": 17,
   "id": "4401d7ec",
   "metadata": {},
   "outputs": [],
   "source": [
    "#To perfor some more function I am again taking this file\n",
    "p=open(\"Testing.Txt\")"
   ]
  },
  {
   "cell_type": "code",
   "execution_count": 18,
   "id": "890fbdff",
   "metadata": {},
   "outputs": [
    {
     "data": {
      "text/plain": [
       "'Hi! G'"
      ]
     },
     "execution_count": 18,
     "metadata": {},
     "output_type": "execute_result"
    }
   ],
   "source": [
    "p.read(5)"
   ]
  },
  {
   "cell_type": "code",
   "execution_count": 19,
   "id": "ff48f03c",
   "metadata": {},
   "outputs": [
    {
     "data": {
      "text/plain": [
       "'eetan'"
      ]
     },
     "execution_count": 19,
     "metadata": {},
     "output_type": "execute_result"
    }
   ],
   "source": [
    "p.read(5)"
   ]
  },
  {
   "cell_type": "code",
   "execution_count": 20,
   "id": "6fa175ea",
   "metadata": {},
   "outputs": [
    {
     "data": {
      "text/plain": [
       "0"
      ]
     },
     "execution_count": 20,
     "metadata": {},
     "output_type": "execute_result"
    }
   ],
   "source": [
    "#How to get back your curson to the initial level?\n",
    "p.seek(0)"
   ]
  },
  {
   "cell_type": "code",
   "execution_count": 21,
   "id": "79287cea",
   "metadata": {},
   "outputs": [
    {
     "data": {
      "text/plain": [
       "'Hi! Geetanshu Singh Negi,\\nHow are you man, I know you are working hard to achieve your goals..\\nDefinetely you will get paid off for your hardwork.'"
      ]
     },
     "execution_count": 21,
     "metadata": {},
     "output_type": "execute_result"
    }
   ],
   "source": [
    "p.read()"
   ]
  },
  {
   "cell_type": "code",
   "execution_count": 23,
   "id": "aed4c459",
   "metadata": {},
   "outputs": [
    {
     "data": {
      "text/plain": [
       "3"
      ]
     },
     "execution_count": 23,
     "metadata": {},
     "output_type": "execute_result"
    }
   ],
   "source": [
    "p.seek(3) #---> int which you will put inside going to decide from where you waht to put your cursor"
   ]
  },
  {
   "cell_type": "code",
   "execution_count": 24,
   "id": "60c9841e",
   "metadata": {},
   "outputs": [
    {
     "data": {
      "text/plain": [
       "' Geetanshu Singh Negi,\\nHow are you man, I know you are working hard to achieve your goals..\\nDefinetely you will get paid off for your hardwork.'"
      ]
     },
     "execution_count": 24,
     "metadata": {},
     "output_type": "execute_result"
    }
   ],
   "source": [
    "p.read()"
   ]
  },
  {
   "cell_type": "code",
   "execution_count": 25,
   "id": "f5e6e3bf",
   "metadata": {},
   "outputs": [
    {
     "data": {
      "text/plain": [
       "148"
      ]
     },
     "execution_count": 25,
     "metadata": {},
     "output_type": "execute_result"
    }
   ],
   "source": [
    "p.tell()"
   ]
  },
  {
   "cell_type": "code",
   "execution_count": 42,
   "id": "6e298189",
   "metadata": {},
   "outputs": [
    {
     "data": {
      "text/plain": [
       "0"
      ]
     },
     "execution_count": 42,
     "metadata": {},
     "output_type": "execute_result"
    }
   ],
   "source": [
    "p.seek(0)"
   ]
  },
  {
   "cell_type": "code",
   "execution_count": 30,
   "id": "3b0cbe5e",
   "metadata": {},
   "outputs": [
    {
     "data": {
      "text/plain": [
       "12"
      ]
     },
     "execution_count": 30,
     "metadata": {},
     "output_type": "execute_result"
    }
   ],
   "source": [
    "#Tell you where is the current position of the cursor\n",
    "p.tell()"
   ]
  },
  {
   "cell_type": "code",
   "execution_count": 34,
   "id": "665757d1",
   "metadata": {},
   "outputs": [],
   "source": [
    "oo=p.read()"
   ]
  },
  {
   "cell_type": "code",
   "execution_count": 32,
   "id": "9fbaab15",
   "metadata": {},
   "outputs": [
    {
     "data": {
      "text/plain": [
       "148"
      ]
     },
     "execution_count": 32,
     "metadata": {},
     "output_type": "execute_result"
    }
   ],
   "source": [
    "p.tell()"
   ]
  },
  {
   "cell_type": "code",
   "execution_count": 37,
   "id": "fec945e7",
   "metadata": {},
   "outputs": [
    {
     "name": "stdout",
     "output_type": "stream",
     "text": [
      "146\n"
     ]
    }
   ],
   "source": [
    "print(len(oo))"
   ]
  },
  {
   "cell_type": "code",
   "execution_count": 43,
   "id": "1cadb07e",
   "metadata": {},
   "outputs": [
    {
     "data": {
      "text/plain": [
       "['Hi! Geetanshu Singh Negi,\\n']"
      ]
     },
     "execution_count": 43,
     "metadata": {},
     "output_type": "execute_result"
    }
   ],
   "source": [
    "p.readlines(1)"
   ]
  },
  {
   "cell_type": "code",
   "execution_count": 44,
   "id": "dce0b78f",
   "metadata": {},
   "outputs": [],
   "source": [
    "#How to close a file automatically after operation on your file\n",
    "#We can use with statement to do this operation\n",
    "with open(\"Testing.Txt\") as d:\n",
    "    d.read()\n",
    "    pass"
   ]
  },
  {
   "cell_type": "code",
   "execution_count": 50,
   "id": "352f0b3f",
   "metadata": {},
   "outputs": [],
   "source": [
    "#Opening a file inn write mode\n",
    "#While doing it you don't need any pre prepared file , it will generated it by that instance only when you will open it in write mode\n",
    "\n",
    "w=open(\"Test1.Txt\",'w')\n",
    "w.write('data')\n",
    "w.close()"
   ]
  },
  {
   "cell_type": "code",
   "execution_count": 61,
   "id": "490bd427",
   "metadata": {},
   "outputs": [
    {
     "data": {
      "text/plain": [
       "0"
      ]
     },
     "execution_count": 61,
     "metadata": {},
     "output_type": "execute_result"
    }
   ],
   "source": [
    "p.seek(0)"
   ]
  },
  {
   "cell_type": "code",
   "execution_count": 62,
   "id": "54bcb2be",
   "metadata": {},
   "outputs": [
    {
     "data": {
      "text/plain": [
       "'Hi! My name is Geetanshu SIngh Negi\\nI am born to make some impact in this world\\nI am working hard and surely one day i will be successful'"
      ]
     },
     "execution_count": 62,
     "metadata": {},
     "output_type": "execute_result"
    }
   ],
   "source": [
    "p.read()"
   ]
  },
  {
   "cell_type": "code",
   "execution_count": 55,
   "id": "99420f8f",
   "metadata": {},
   "outputs": [],
   "source": [
    "rr=open(\"Test.Txt\",'w')"
   ]
  },
  {
   "cell_type": "code",
   "execution_count": 56,
   "id": "a0ab2b3e",
   "metadata": {},
   "outputs": [
    {
     "data": {
      "text/plain": [
       "22"
      ]
     },
     "execution_count": 56,
     "metadata": {},
     "output_type": "execute_result"
    }
   ],
   "source": [
    "rr.write('Hii , my name is geetu')"
   ]
  },
  {
   "cell_type": "code",
   "execution_count": 57,
   "id": "c241a012",
   "metadata": {},
   "outputs": [],
   "source": [
    "rr.close()"
   ]
  },
  {
   "cell_type": "code",
   "execution_count": 59,
   "id": "b32e3379",
   "metadata": {},
   "outputs": [],
   "source": [
    "rrr=open(\"Test.Txt\")"
   ]
  },
  {
   "cell_type": "code",
   "execution_count": 60,
   "id": "7f8e687d",
   "metadata": {},
   "outputs": [
    {
     "data": {
      "text/plain": [
       "'Hii , my name is geetu'"
      ]
     },
     "execution_count": 60,
     "metadata": {},
     "output_type": "execute_result"
    }
   ],
   "source": [
    "rrr.read()"
   ]
  },
  {
   "cell_type": "code",
   "execution_count": 63,
   "id": "41a80fab",
   "metadata": {},
   "outputs": [],
   "source": [
    "#Note that if ypu are opening existing file in writing mode and write something in it , it will over write the data. "
   ]
  },
  {
   "cell_type": "code",
   "execution_count": 67,
   "id": "9638805d",
   "metadata": {},
   "outputs": [],
   "source": [
    "with open(\"test2.Txt\",'w') as te:\n",
    "    te.write('Hi bro how are u \\n') #we have used this \\n to get into next line\n",
    "    te.write('It was really a nice meet')\n",
    "    pass"
   ]
  },
  {
   "cell_type": "code",
   "execution_count": 68,
   "id": "0b1e2309",
   "metadata": {},
   "outputs": [
    {
     "data": {
      "text/plain": [
       "16"
      ]
     },
     "execution_count": 68,
     "metadata": {},
     "output_type": "execute_result"
    }
   ],
   "source": [
    "p=open('Test.Txt','w+')\n",
    "p.write('You are hero bro')"
   ]
  },
  {
   "cell_type": "code",
   "execution_count": 69,
   "id": "876ba0f1",
   "metadata": {},
   "outputs": [
    {
     "data": {
      "text/plain": [
       "'You are hero bro'"
      ]
     },
     "execution_count": 69,
     "metadata": {},
     "output_type": "execute_result"
    }
   ],
   "source": [
    "p=open('Test.Txt')\n",
    "p.read()"
   ]
  },
  {
   "cell_type": "code",
   "execution_count": 98,
   "id": "df74254a",
   "metadata": {},
   "outputs": [
    {
     "name": "stdout",
     "output_type": "stream",
     "text": [
      "Enter a number4\n",
      "Enter another number0\n"
     ]
    },
    {
     "data": {
      "text/plain": [
       "'division by zero'"
      ]
     },
     "execution_count": 98,
     "metadata": {},
     "output_type": "execute_result"
    }
   ],
   "source": [
    "a=int(input('Enter a number'))\n",
    "b=int(input('Enter another number'))\n",
    "i=open('Log_error','w')\n",
    "try:\n",
    "    print(a/b)\n",
    "    i.write('It ran successfully')\n",
    "    i.close()\n",
    "except Exception as e:\n",
    "    q=str(e)\n",
    "    i.write(q)\n",
    "    i.close()\n",
    "i=open('Log_error')\n",
    "i.read()"
   ]
  },
  {
   "cell_type": "code",
   "execution_count": 78,
   "id": "720cbc45",
   "metadata": {},
   "outputs": [
    {
     "name": "stdout",
     "output_type": "stream",
     "text": [
      "Enter a number4\n",
      "Enter another number4\n",
      "1.0\n",
      "It ran successfully\n"
     ]
    }
   ],
   "source": []
  },
  {
   "cell_type": "code",
   "execution_count": null,
   "id": "3aee9938",
   "metadata": {},
   "outputs": [],
   "source": []
  }
 ],
 "metadata": {
  "kernelspec": {
   "display_name": "Python 3 (ipykernel)",
   "language": "python",
   "name": "python3"
  },
  "language_info": {
   "codemirror_mode": {
    "name": "ipython",
    "version": 3
   },
   "file_extension": ".py",
   "mimetype": "text/x-python",
   "name": "python",
   "nbconvert_exporter": "python",
   "pygments_lexer": "ipython3",
   "version": "3.9.12"
  }
 },
 "nbformat": 4,
 "nbformat_minor": 5
}
