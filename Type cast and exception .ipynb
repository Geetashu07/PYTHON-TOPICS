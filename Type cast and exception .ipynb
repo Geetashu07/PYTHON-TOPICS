{
 "cells": [
  {
   "cell_type": "markdown",
   "id": "a60daa45",
   "metadata": {},
   "source": [
    "# Type casting\n",
    "-It is the process of converting data one datatype to another.\n",
    "\n",
    "-Python has two types of conversion :Implecits conversion and Explicits Conversion"
   ]
  },
  {
   "cell_type": "markdown",
   "id": "2258b11c",
   "metadata": {},
   "source": []
  },
  {
   "cell_type": "markdown",
   "id": "cb1812d6",
   "metadata": {},
   "source": [
    "## Implicit conversion\n",
    "In this type of conversion , Python automatically change the data type of of a data ."
   ]
  },
  {
   "cell_type": "code",
   "execution_count": 8,
   "id": "89459f28",
   "metadata": {},
   "outputs": [
    {
     "name": "stdout",
     "output_type": "stream",
     "text": [
      "Data type of a: <class 'int'>\n",
      "Data type of b: <class 'float'>\n",
      "Value of c: 29.47\n",
      "Data type of c: <class 'float'>\n"
     ]
    }
   ],
   "source": [
    "a=15\n",
    "print('Data type of a:',type(a))\n",
    "b=14.47\n",
    "print('Data type of b:',type(b))\n",
    "c=a+b\n",
    "print('Value of c:',c)\n",
    "print('Data type of c:',type(c))\n",
    "\n"
   ]
  },
  {
   "cell_type": "markdown",
   "id": "b317b1a5",
   "metadata": {},
   "source": [
    "### But what happen in the above example?\n",
    "Basically, when we are adding tow data ,Python convert the datatype of new variable to the larger datatype to avoide the loss of data.\n",
    "\n",
    "### Than what is the use of Explicit conevrsion?\n",
    "While adding string and integer , Python is unable to convert the datatype , here we will use the Explicite conversion .\n",
    "\n",
    "### NOTE: \n",
    "Explicit type of conversion is called Type casting.\n"
   ]
  },
  {
   "cell_type": "code",
   "execution_count": 13,
   "id": "6fc20b16",
   "metadata": {},
   "outputs": [
    {
     "ename": "TypeError",
     "evalue": "can only concatenate str (not \"int\") to str",
     "output_type": "error",
     "traceback": [
      "\u001b[1;31m---------------------------------------------------------------------------\u001b[0m",
      "\u001b[1;31mTypeError\u001b[0m                                 Traceback (most recent call last)",
      "Input \u001b[1;32mIn [13]\u001b[0m, in \u001b[0;36m<cell line: 3>\u001b[1;34m()\u001b[0m\n\u001b[0;32m      1\u001b[0m a\u001b[38;5;241m=\u001b[39m\u001b[38;5;124m'\u001b[39m\u001b[38;5;124m15\u001b[39m\u001b[38;5;124m'\u001b[39m\n\u001b[0;32m      2\u001b[0m b\u001b[38;5;241m=\u001b[39m\u001b[38;5;241m45\u001b[39m\n\u001b[1;32m----> 3\u001b[0m c\u001b[38;5;241m=\u001b[39m\u001b[43ma\u001b[49m\u001b[38;5;241;43m+\u001b[39;49m\u001b[43mb\u001b[49m\n",
      "\u001b[1;31mTypeError\u001b[0m: can only concatenate str (not \"int\") to str"
     ]
    }
   ],
   "source": [
    "a='15'\n",
    "b=45\n",
    "c=a+b"
   ]
  },
  {
   "cell_type": "code",
   "execution_count": 14,
   "id": "892bbb41",
   "metadata": {},
   "outputs": [
    {
     "name": "stdout",
     "output_type": "stream",
     "text": [
      "60\n",
      "<class 'int'>\n"
     ]
    }
   ],
   "source": [
    "a='15'\n",
    "b=45\n",
    "c=int(a)+45 ##Explicit conversion\n",
    "print(c)\n",
    "print(type(c))"
   ]
  },
  {
   "cell_type": "markdown",
   "id": "7b6bb957",
   "metadata": {},
   "source": [
    "### Key Points to Remember\n",
    "Type Conversion is the conversion of an object from one data type to another data type.\n",
    "\n",
    "Implicit Type Conversion is automatically performed by the Python interpreter.\n",
    "\n",
    "Python avoids the loss of data in Implicit Type Conversion.\n",
    "\n",
    "Explicit Type Conversion is also called Type Casting, the data types of objects are converted using predefined functions by \n",
    "the user.\n",
    "\n",
    "In Type Casting, loss of data may occur as we enforce the object to a specific data type."
   ]
  },
  {
   "cell_type": "markdown",
   "id": "55ea6a68",
   "metadata": {},
   "source": [
    "# New topic"
   ]
  },
  {
   "cell_type": "markdown",
   "id": "0afc5eef",
   "metadata": {},
   "source": [
    "# Exceptions\n",
    "\n",
    "Python has many build-it exceptions that are raised when your program encounter a program.If it is not handled , your program will crash.\n",
    "\n",
    "We will figure out how an syntax error is different from exception and we will try to raise exception and making assertions."
   ]
  },
  {
   "cell_type": "code",
   "execution_count": 15,
   "id": "8a32153a",
   "metadata": {},
   "outputs": [
    {
     "ename": "SyntaxError",
     "evalue": "unmatched ')' (3458332244.py, line 2)",
     "output_type": "error",
     "traceback": [
      "\u001b[1;36m  Input \u001b[1;32mIn [15]\u001b[1;36m\u001b[0m\n\u001b[1;33m    print(0/0))\u001b[0m\n\u001b[1;37m              ^\u001b[0m\n\u001b[1;31mSyntaxError\u001b[0m\u001b[1;31m:\u001b[0m unmatched ')'\n"
     ]
    }
   ],
   "source": [
    "#Syntax error\n",
    "print(0/0))"
   ]
  },
  {
   "cell_type": "code",
   "execution_count": 17,
   "id": "042689ca",
   "metadata": {},
   "outputs": [
    {
     "ename": "ZeroDivisionError",
     "evalue": "division by zero",
     "output_type": "error",
     "traceback": [
      "\u001b[1;31m---------------------------------------------------------------------------\u001b[0m",
      "\u001b[1;31mZeroDivisionError\u001b[0m                         Traceback (most recent call last)",
      "Input \u001b[1;32mIn [17]\u001b[0m, in \u001b[0;36m<cell line: 4>\u001b[1;34m()\u001b[0m\n\u001b[0;32m      2\u001b[0m a\u001b[38;5;241m=\u001b[39m\u001b[38;5;241m0\u001b[39m\n\u001b[0;32m      3\u001b[0m b\u001b[38;5;241m=\u001b[39m\u001b[38;5;241m0\u001b[39m\n\u001b[1;32m----> 4\u001b[0m \u001b[38;5;28mprint\u001b[39m(\u001b[43ma\u001b[49m\u001b[38;5;241;43m/\u001b[39;49m\u001b[43mb\u001b[49m)\n",
      "\u001b[1;31mZeroDivisionError\u001b[0m: division by zero"
     ]
    }
   ],
   "source": [
    "#Exception error\n",
    "a=0\n",
    "b=0\n",
    "print(a/b)"
   ]
  },
  {
   "cell_type": "markdown",
   "id": "6438831a",
   "metadata": {},
   "source": [
    "## Raising an exception\n",
    "We can use raise to through an exception when a particular conditionn occur."
   ]
  },
  {
   "cell_type": "code",
   "execution_count": 19,
   "id": "7d43c334",
   "metadata": {},
   "outputs": [
    {
     "ename": "Exception",
     "evalue": "You cant make value of b as 0 whereas value of a is 4",
     "output_type": "error",
     "traceback": [
      "\u001b[1;31m---------------------------------------------------------------------------\u001b[0m",
      "\u001b[1;31mException\u001b[0m                                 Traceback (most recent call last)",
      "Input \u001b[1;32mIn [19]\u001b[0m, in \u001b[0;36m<cell line: 4>\u001b[1;34m()\u001b[0m\n\u001b[0;32m      3\u001b[0m b\u001b[38;5;241m=\u001b[39m\u001b[38;5;241m0\u001b[39m\n\u001b[0;32m      4\u001b[0m \u001b[38;5;28;01mif\u001b[39;00m b\u001b[38;5;241m==\u001b[39m\u001b[38;5;241m0\u001b[39m:\n\u001b[1;32m----> 5\u001b[0m     \u001b[38;5;28;01mraise\u001b[39;00m \u001b[38;5;167;01mException\u001b[39;00m(\u001b[38;5;124mf\u001b[39m\u001b[38;5;124m'\u001b[39m\u001b[38;5;124mYou cant make value of b as 0 whereas value of a is \u001b[39m\u001b[38;5;132;01m{\u001b[39;00ma\u001b[38;5;132;01m}\u001b[39;00m\u001b[38;5;124m'\u001b[39m)\n",
      "\u001b[1;31mException\u001b[0m: You cant make value of b as 0 whereas value of a is 4"
     ]
    }
   ],
   "source": [
    "#How to handle this exception\n",
    "a=4\n",
    "b=0\n",
    "if b==0:\n",
    "    raise Exception(f'You cant make value of b as 0 whereas value of a is {a}')"
   ]
  },
  {
   "cell_type": "code",
   "execution_count": 6,
   "id": "7c43122b",
   "metadata": {},
   "outputs": [
    {
     "name": "stdout",
     "output_type": "stream",
     "text": [
      "Actual error: division by zero\n",
      "Pls change the value of b from 0 to non zero\n",
      "0.0\n"
     ]
    }
   ],
   "source": [
    "a=4\n",
    "b=0\n",
    "c=4\n",
    "try :\n",
    "    print(a/b)\n",
    "except Exception as error:\n",
    "    print('Actual error:',error) ##use to print actual weeor\n",
    "    print(f'Pls change the value of b from {b} to non zero')\n",
    "print(b/c)\n",
    "    "
   ]
  },
  {
   "cell_type": "markdown",
   "id": "0e1d980d",
   "metadata": {},
   "source": [
    "# Types of error\n",
    "There are basically 3 types of error:\n",
    "\n",
    "Compile error\n",
    "\n",
    "Logical error\n",
    "\n",
    "Runtime error\n"
   ]
  },
  {
   "cell_type": "code",
   "execution_count": 15,
   "id": "a9fcc96f",
   "metadata": {},
   "outputs": [
    {
     "name": "stdout",
     "output_type": "stream",
     "text": [
      "1.0\n",
      "Enter an integerf\n"
     ]
    },
    {
     "ename": "ValueError",
     "evalue": "invalid literal for int() with base 10: 'f'",
     "output_type": "error",
     "traceback": [
      "\u001b[1;31m---------------------------------------------------------------------------\u001b[0m",
      "\u001b[1;31mValueError\u001b[0m                                Traceback (most recent call last)",
      "Input \u001b[1;32mIn [15]\u001b[0m, in \u001b[0;36m<cell line: 3>\u001b[1;34m()\u001b[0m\n\u001b[0;32m      3\u001b[0m \u001b[38;5;28;01mtry\u001b[39;00m:\n\u001b[0;32m      4\u001b[0m     \u001b[38;5;28mprint\u001b[39m(a\u001b[38;5;241m/\u001b[39mb)\n\u001b[1;32m----> 5\u001b[0m     c\u001b[38;5;241m=\u001b[39m\u001b[38;5;28;43mint\u001b[39;49m\u001b[43m(\u001b[49m\u001b[38;5;28;43minput\u001b[39;49m\u001b[43m(\u001b[49m\u001b[38;5;124;43m'\u001b[39;49m\u001b[38;5;124;43mEnter an integer\u001b[39;49m\u001b[38;5;124;43m'\u001b[39;49m\u001b[43m)\u001b[49m\u001b[43m)\u001b[49m\n\u001b[0;32m      6\u001b[0m     \u001b[38;5;28mprint\u001b[39m(c)\n\u001b[0;32m      7\u001b[0m \u001b[38;5;28;01mexcept\u001b[39;00m \u001b[38;5;167;01mZeroDivisionError\u001b[39;00m \u001b[38;5;28;01mas\u001b[39;00m e:\n",
      "\u001b[1;31mValueError\u001b[0m: invalid literal for int() with base 10: 'f'"
     ]
    }
   ],
   "source": [
    "a=4\n",
    "b=4\n",
    "try:\n",
    "    print(a/b)\n",
    "    c=int(input('Enter an integer'))\n",
    "    print(c)\n",
    "except ZeroDivisionError as e:\n",
    "    print('Error name',e)\n",
    "    print('Solution- You cant put value of b as 0')\n",
    "\n",
    "#In this condition we are intentionally getting our code in error in the second time , while giving input as a string for \n",
    "#int value. So we are getting our exception statement trigger but the things is for some different error it still showing\n",
    "#'ZeroDivisionnError' so in this condition we can write the code as below"
   ]
  },
  {
   "cell_type": "code",
   "execution_count": 18,
   "id": "12c42db2",
   "metadata": {},
   "outputs": [
    {
     "name": "stdout",
     "output_type": "stream",
     "text": [
      "1.0\n",
      "Enter an integergh\n",
      "invalid literal for int() with base 10: 'gh'\n",
      "I have closed this exception block\n"
     ]
    }
   ],
   "source": [
    "a=4\n",
    "b=4\n",
    "try:\n",
    "    print(a/b)\n",
    "    c=int(input('Enter an integer'))\n",
    "    print(c)\n",
    "except ZeroDivisionError as e:\n",
    "    print('Error name',e)\n",
    "    print('Solution- You cant put value of b as 0')\n",
    "except Exception as s:   #NOTE: E of Exception is Capital\n",
    "    print(s)\n",
    "finally:  #Always try to close try,exception with finally\n",
    "    print('I have closed this exception block')"
   ]
  },
  {
   "cell_type": "markdown",
   "id": "e7550bd2",
   "metadata": {},
   "source": [
    "## NOTE\n",
    "The try block lets you test a block of code for errors.\n",
    "\n",
    "The except block lets you handle the error.\n",
    "\n",
    "The else block lets you execute code when there is no error.\n",
    "\n",
    "The finally block lets you execute code, regardless of the result of the try- and except blocks."
   ]
  },
  {
   "cell_type": "code",
   "execution_count": null,
   "id": "30f3b0bf",
   "metadata": {},
   "outputs": [],
   "source": []
  }
 ],
 "metadata": {
  "kernelspec": {
   "display_name": "Python 3 (ipykernel)",
   "language": "python",
   "name": "python3"
  },
  "language_info": {
   "codemirror_mode": {
    "name": "ipython",
    "version": 3
   },
   "file_extension": ".py",
   "mimetype": "text/x-python",
   "name": "python",
   "nbconvert_exporter": "python",
   "pygments_lexer": "ipython3",
   "version": "3.9.12"
  }
 },
 "nbformat": 4,
 "nbformat_minor": 5
}
