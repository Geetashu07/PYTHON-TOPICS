{
 "cells": [
  {
   "cell_type": "markdown",
   "id": "f86136e4",
   "metadata": {},
   "source": [
    "12. Accept a string as input. If the input string is of odd length, then \n",
    "continue with it. If the input string is of even length, make the \n",
    "string of odd length as below:\n",
    "• If the last character is a period (.), then remove it \n",
    "• If the last character is not a period, then add a period (.) to the \n",
    "end of the string\n",
    "Call this string of odd length word. Select a substring made up of \n",
    "three consecutive characters from word such that there are an \n",
    "equal number of characters to the left and right of this substring. \n",
    "Print this substring as output. You can assume that all input \n",
    "strings will be in lower case and will have a length of at least four"
   ]
  },
  {
   "cell_type": "code",
   "execution_count": 3,
   "id": "345d2ad2",
   "metadata": {},
   "outputs": [
    {
     "name": "stdout",
     "output_type": "stream",
     "text": [
      "Enter a stringsafsa\n",
      "['s', 'a', 'f', 's', 'a']\n",
      "afs\n"
     ]
    }
   ],
   "source": [
    "# My approach  --->bit long approach but because of this approach i get anew concept of converting list into string\n",
    "a=input('Enter a string')\n",
    "a=list(a)\n",
    "if len(a)%2==0:\n",
    "    if a[len(a)-1]=='.':\n",
    "        a.remove(a[len(a)-1])\n",
    "    else:\n",
    "        a.append('.')\n",
    "print(a)\n",
    "b=[]\n",
    "for i in range((len(a)//2)-1,(len(a)//2)+2):\n",
    "    b.append(a[i])  \n",
    "print(''.join(b)) \n",
    "\n",
    "#In this case i was wonering how to conver the list into join"
   ]
  },
  {
   "cell_type": "code",
   "execution_count": 5,
   "id": "b589e0f4",
   "metadata": {},
   "outputs": [
    {
     "name": "stdout",
     "output_type": "stream",
     "text": [
      "Enter a stringdasf\n",
      "asf\n"
     ]
    }
   ],
   "source": [
    "#Other's approach ---------------> Good aproach\n",
    "a=input('Enter a string')\n",
    "if len(a)%2==0:\n",
    "    if a[len(a)-1]=='.':\n",
    "        a=a[:-1]\n",
    "    else:\n",
    "        a=a+'.'\n",
    "print(a[(len(a)//2)-1:(len(a)//2)+2])\n"
   ]
  },
  {
   "cell_type": "markdown",
   "id": "4db08246",
   "metadata": {},
   "source": [
    "13. Accept three positive integers as input and check if they form the \n",
    "sides of a right triangle. Print YES if they form one, and NO is they do \n",
    "not. The input will have three lines, with one integer on each line. \n",
    "The output should be a single line containing one of these two \n",
    "strings: YES or NO."
   ]
  },
  {
   "cell_type": "code",
   "execution_count": 6,
   "id": "ba5408e3",
   "metadata": {},
   "outputs": [
    {
     "name": "stdout",
     "output_type": "stream",
     "text": [
      "4\n",
      "5\n",
      "7\n",
      "It is triangle\n"
     ]
    }
   ],
   "source": [
    "#Why the above concept is important ?\n",
    "#Because its telling us the condition for the validation of a triangle\n",
    "a=[]\n",
    "for i in range(3):\n",
    "    b=int(input())\n",
    "    a.append(b)\n",
    "\n",
    "if a[0]+a[1]>a[2] and a[1]+a[2]>a[0] and a[0]+a[2]>a[1]:\n",
    "    print('It is triangle')\n",
    "else:\n",
    "    print('It is not a triangle')"
   ]
  },
  {
   "cell_type": "markdown",
   "id": "c325ba01",
   "metadata": {},
   "source": [
    "17.Accept a string as input. Your task is to determine if the input string is a valid password or not. For a \n",
    "string to be a valid password, it must satisfy all the conditions given below:\n",
    "(1) It should have at least 8 and at most 32 characters\n",
    "(2) It should start with an uppercase or lowercase letter\n",
    "(3) It should not have any of these characters: / \\ = ' \"\n",
    "(4) It should not have spaces\n",
    "It could have any character that is not mentioned in the list of characters to be avoided (points 3 and \n",
    "4). Output True if the string forms a valid password and False otherwise"
   ]
  },
  {
   "cell_type": "code",
   "execution_count": null,
   "id": "bbc2cdc8",
   "metadata": {},
   "outputs": [],
   "source": [
    "# At first sight i got afraid from this question but after seeing the solution i found i assumedd very quickly that it is \n",
    "#very difficult question\n",
    "\n",
    "a=input(\"Enter your password\")\n",
    "if 8<=len(a)<=32 and a[0].isalpha() and '/' not in a and '\\\\' not in a and '=' not in a and '\"' not in a and '\\' ' not in a and ' ' not in a :\n",
    "    print('You password is taken')\n",
    "else:\n",
    "    print('Please enter the correct format of password')\n",
    "    \n",
    "#Other learning from this code is that when you try to enter '\\' it will not work because \\ is used to nulify the \n",
    "#effect of the next thingh"
   ]
  },
  {
   "cell_type": "markdown",
   "id": "84a40bc2",
   "metadata": {},
   "source": [
    "20. Accept two strings as input and form a new string by removing all \n",
    "characters from the second string which are present in the first string. \n",
    "Print this new string as output. You can assume that all input strings \n",
    "will be in lower case."
   ]
  },
  {
   "cell_type": "code",
   "execution_count": 2,
   "id": "7080bf03",
   "metadata": {},
   "outputs": [
    {
     "name": "stdout",
     "output_type": "stream",
     "text": [
      "vgb\n",
      "njhghvbvhgchhyftfvhgv\n",
      "v\n",
      "g\n",
      "b\n",
      "njhhhchhyftfh\n"
     ]
    }
   ],
   "source": [
    "#In this I learnt about how to remove letter from string without and data casting\n",
    "a=input()\n",
    "b=input()\n",
    "c=b\n",
    "for i in a:\n",
    "    if i in c:\n",
    "        e=i\n",
    "        print(i)\n",
    "        c=c.replace(e,'')\n",
    "print(c)"
   ]
  },
  {
   "cell_type": "markdown",
   "id": "62a45a39",
   "metadata": {},
   "source": [
    "22. In the first line of input, accept a sequence of space-separated words. In the second line of \n",
    "input, accept a single word. If this word is not present in the sequence, print NO. If this word \n",
    "is present in the sequence, then print YES and in the next line of the output, print the number \n",
    "of times the word appears in the sequence."
   ]
  },
  {
   "cell_type": "code",
   "execution_count": null,
   "id": "0e309d2a",
   "metadata": {},
   "outputs": [],
   "source": [
    "#How to take space seperated input or instead of space you can take anything\n",
    "a=list(map(str, input().split(' ')))\n",
    "b=input('Enter a word')\n",
    "print(a)\n",
    "print(b)\n",
    "if b in a:\n",
    "    print('Yes')\n",
    "else:\n",
    "    print('No')"
   ]
  },
  {
   "cell_type": "markdown",
   "id": "38acdee6",
   "metadata": {},
   "source": [
    "23. Write a function named factorial that accepts an integer n as argument. It should return \n",
    "the factorial of n if n is a positive integer. It should return -1 if n is a negative integer, and it \n",
    "should return 1 if n is zero."
   ]
  },
  {
   "cell_type": "code",
   "execution_count": null,
   "id": "4ab6c095",
   "metadata": {},
   "outputs": [],
   "source": [
    "#Important question of factorial\n",
    "def aa(a):\n",
    "    if a>1:\n",
    "        b=a*aa(a-1)\n",
    "    elif a==0:\n",
    "        b=1\n",
    "    elif a<0:\n",
    "        b=-1\n",
    "    elif a==1:\n",
    "        b=a\n",
    "    return b\n",
    "aa(7)"
   ]
  },
  {
   "cell_type": "markdown",
   "id": "562a4723",
   "metadata": {},
   "source": [
    "24. \n",
    "The range of a list of numbers is the difference between the maximum and minimum values in the list\n",
    "Write a function named get_range that accepts a non-empty list of real numbers as argument. It \n",
    "should return the range of the list.\n",
    "(1) Avoid using built-in function such as max and min.\n",
    "(2) You do not have to accept input from the user or print output to the console. You just have to write \n",
    "the function definition."
   ]
  },
  {
   "cell_type": "code",
   "execution_count": null,
   "id": "df48a3f9",
   "metadata": {},
   "outputs": [],
   "source": [
    "#To learn about how function works in function:\n",
    "def ra(l):\n",
    "    def mx(l):\n",
    "        a=l[0]\n",
    "        for i in l:\n",
    "            if a<i:\n",
    "                a=i\n",
    "        return a\n",
    "    def mi(l):\n",
    "        q=l[0]\n",
    "        for i in l:\n",
    "            if q>i:\n",
    "                q=i\n",
    "        return q\n",
    "    return mx(l)-mi(l)\n",
    "ra([4,2,5,7,8,1,78,3])"
   ]
  }
 ],
 "metadata": {
  "kernelspec": {
   "display_name": "Python 3 (ipykernel)",
   "language": "python",
   "name": "python3"
  },
  "language_info": {
   "codemirror_mode": {
    "name": "ipython",
    "version": 3
   },
   "file_extension": ".py",
   "mimetype": "text/x-python",
   "name": "python",
   "nbconvert_exporter": "python",
   "pygments_lexer": "ipython3",
   "version": "3.9.12"
  }
 },
 "nbformat": 4,
 "nbformat_minor": 5
}
