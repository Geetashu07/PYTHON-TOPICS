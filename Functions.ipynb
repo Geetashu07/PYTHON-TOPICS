{
 "cells": [
  {
   "cell_type": "markdown",
   "id": "d0b1b24d",
   "metadata": {},
   "source": [
    "# Functions\n",
    "A function is a block of code which is used to perform a specific type of functionality when it is called .It is used to make our code more readable and reusable.\n",
    "\n",
    "A Function is made up of def and an identifier \n",
    "\n",
    "The use of return is to store the data and take it out of the function\n",
    "\n",
    "Arguments are the parameter which a user give while executing a function."
   ]
  },
  {
   "cell_type": "code",
   "execution_count": 6,
   "id": "e6be08e1",
   "metadata": {},
   "outputs": [
    {
     "name": "stdout",
     "output_type": "stream",
     "text": [
      "25\n"
     ]
    }
   ],
   "source": [
    "def p(a):\n",
    "    return a*a\n",
    "print(p(5))\n",
    "\n",
    "\n",
    "#def - to create a function\n",
    "#p() - Identifier\n",
    "#a - Argument"
   ]
  },
  {
   "cell_type": "markdown",
   "id": "5c4f7a2a",
   "metadata": {},
   "source": [
    "## Difference between Parameter and Arguments:\n",
    "\n",
    "Paramater- It is the variable listed inside the paranthesis while defining the function\n",
    "\n",
    "Arguments- It is the value sent to the function while calling them\n",
    "\n",
    "\n",
    "If your function is created with specific parameters then you need to give same no. of arguments while calling the funciton"
   ]
  },
  {
   "cell_type": "markdown",
   "id": "225f0c99",
   "metadata": {},
   "source": [
    "## Arbitarary Arguments, *args\n",
    "\n",
    "If you don't know how many arguments you could get then simply put '*' infornt of the parameter\n"
   ]
  },
  {
   "cell_type": "code",
   "execution_count": 7,
   "id": "36db9d25",
   "metadata": {},
   "outputs": [],
   "source": [
    "def ssum(*a):\n",
    "    b=0\n",
    "    for i in a:\n",
    "        b+=i\n",
    "    return b\n",
    "\n",
    "        "
   ]
  },
  {
   "cell_type": "code",
   "execution_count": 9,
   "id": "fdd7dd89",
   "metadata": {},
   "outputs": [
    {
     "name": "stdout",
     "output_type": "stream",
     "text": [
      "<class 'int'>\n"
     ]
    }
   ],
   "source": [
    "print(type(ssum(1,2,3,4,5,6,7,8,9)))"
   ]
  },
  {
   "cell_type": "code",
   "execution_count": 11,
   "id": "38dd5ecc",
   "metadata": {},
   "outputs": [
    {
     "name": "stdout",
     "output_type": "stream",
     "text": [
      "<class 'tuple'>\n"
     ]
    }
   ],
   "source": [
    "def asitis(*a):\n",
    "    return a\n",
    "# Now if you want to see how this function treat your input \n",
    "print(type(asitis(1,2,3,4,5,6)))\n",
    "\n",
    "\n",
    "# TADA!! The function treat the agruments as a tuple "
   ]
  },
  {
   "cell_type": "markdown",
   "id": "6c6159fe",
   "metadata": {},
   "source": [
    "## Keyword argument\n",
    "#You can also send the argumments in a key , value pair . This could be usefull if you do not know the arrangement of #parameters\n"
   ]
  },
  {
   "cell_type": "code",
   "execution_count": 14,
   "id": "142b983c",
   "metadata": {},
   "outputs": [
    {
     "name": "stdout",
     "output_type": "stream",
     "text": [
      "Hii ! My name is Geetanshu\n"
     ]
    }
   ],
   "source": [
    "def hi(a,b,c):\n",
    "    print(f'Hii ! My name is {b}')\n",
    "hi(c='Vishu',a='Jay',b='Geetanshu')\n",
    "\n",
    "# does't matter in which order you are giving the arguments if you use keyword arguments"
   ]
  },
  {
   "cell_type": "markdown",
   "id": "b5b83254",
   "metadata": {},
   "source": [
    "## Arbiratory Keyword arguments\n",
    "\n",
    "Combination of - any no. of arguments with key value pair"
   ]
  },
  {
   "cell_type": "code",
   "execution_count": 15,
   "id": "35240d2c",
   "metadata": {},
   "outputs": [],
   "source": [
    "def aka(**a):\n",
    "    return a"
   ]
  },
  {
   "cell_type": "code",
   "execution_count": 16,
   "id": "c5799569",
   "metadata": {},
   "outputs": [
    {
     "data": {
      "text/plain": [
       "{'a': 'Geetanshu', 'b': 'Singh', 'c': 'Negi'}"
      ]
     },
     "execution_count": 16,
     "metadata": {},
     "output_type": "execute_result"
    }
   ],
   "source": [
    "aka(a='Geetanshu',b='Singh',c='Negi')"
   ]
  },
  {
   "cell_type": "code",
   "execution_count": 18,
   "id": "65b7ba3e",
   "metadata": {},
   "outputs": [
    {
     "name": "stdout",
     "output_type": "stream",
     "text": [
      "Name of Ganga's child is Geetu\n",
      "Name of Godhan's child is Vishu\n",
      "Name of OP's child is Ankit\n"
     ]
    }
   ],
   "source": [
    "def child(**a):\n",
    "    for i in a:\n",
    "        print(f\"Name of {i}'s child is {a[i]}\")\n",
    "child(Ganga='Geetu',Godhan='Vishu',OP='Ankit')"
   ]
  },
  {
   "cell_type": "markdown",
   "id": "decf872f",
   "metadata": {},
   "source": [
    "## Default parameter\n",
    "Its is useful for the condition when you are not passing any parameter in the function while calling it."
   ]
  },
  {
   "cell_type": "code",
   "execution_count": 26,
   "id": "1959605d",
   "metadata": {},
   "outputs": [],
   "source": [
    "def dp(a='All is well'):\n",
    "    print(f'Repeate behind me -\"{a}\"')"
   ]
  },
  {
   "cell_type": "code",
   "execution_count": 27,
   "id": "52abd6d4",
   "metadata": {},
   "outputs": [
    {
     "name": "stdout",
     "output_type": "stream",
     "text": [
      "Repeate behind me -\"All is well\"\n"
     ]
    }
   ],
   "source": [
    "dp()"
   ]
  },
  {
   "cell_type": "code",
   "execution_count": 28,
   "id": "96bf1ef4",
   "metadata": {},
   "outputs": [
    {
     "name": "stdout",
     "output_type": "stream",
     "text": [
      "Repeate behind me -\"I am going to be very successful\"\n"
     ]
    }
   ],
   "source": [
    "dp(a='I am going to be very successful')"
   ]
  },
  {
   "cell_type": "markdown",
   "id": "8f6d37cc",
   "metadata": {},
   "source": [
    "## Recursion\n",
    "Which means a define function can call itself .\n",
    "\n",
    "It is very efficient method to use but its very often that a programmer slips into thing and end up with non termenating loop."
   ]
  },
  {
   "cell_type": "code",
   "execution_count": 3,
   "id": "f1cbae68",
   "metadata": {},
   "outputs": [],
   "source": [
    "def re(a):\n",
    "    if a>1:\n",
    "        a=a*re(a-1)\n",
    "        return a\n",
    "    return a"
   ]
  },
  {
   "cell_type": "code",
   "execution_count": 9,
   "id": "75347025",
   "metadata": {},
   "outputs": [
    {
     "data": {
      "text/plain": [
       "6"
      ]
     },
     "execution_count": 9,
     "metadata": {},
     "output_type": "execute_result"
    }
   ],
   "source": [
    "re(3)"
   ]
  },
  {
   "cell_type": "markdown",
   "id": "a2468c91",
   "metadata": {},
   "source": [
    "# Properties of first class functions:\n",
    "A function is an instance of the Object type.\n",
    "\n",
    "You can store the function in a variable.\n",
    "\n",
    "You can pass the function as a parameter to another function.\n",
    "\n",
    "You can return the function from a function.\n",
    "\n",
    "You can store them in data structures such as hash tables, lists, …"
   ]
  },
  {
   "cell_type": "code",
   "execution_count": 19,
   "id": "c6fd50e4",
   "metadata": {},
   "outputs": [
    {
     "name": "stdout",
     "output_type": "stream",
     "text": [
      "GEETU\n",
      "VISHU\n"
     ]
    }
   ],
   "source": [
    "#Treating the function as an object\n",
    "def up(a):\n",
    "    return a.upper()\n",
    "print(up('geetu'))\n",
    "\n",
    "down=up  #-- Treating it as an object\n",
    "print(down('vishu'))"
   ]
  },
  {
   "cell_type": "code",
   "execution_count": 25,
   "id": "907fe547",
   "metadata": {},
   "outputs": [],
   "source": [
    "#Passinng the function as an argument\n",
    "def down(a):\n",
    "    return a.lower()\n",
    "\n",
    "def p(a):\n",
    "    print(a('I am very greatful to have healthy body and mind'))\n"
   ]
  },
  {
   "cell_type": "code",
   "execution_count": 26,
   "id": "39965700",
   "metadata": {},
   "outputs": [
    {
     "name": "stdout",
     "output_type": "stream",
     "text": [
      "I AM VERY GREATFUL TO HAVE HEALTHY BODY AND MIND\n",
      "i am very greatful to have healthy body and mind\n"
     ]
    }
   ],
   "source": [
    "#Actual use of function as an argument\n",
    "p(up)\n",
    "p(down)"
   ]
  },
  {
   "cell_type": "markdown",
   "id": "1ded073f",
   "metadata": {},
   "source": [
    "## Decorator"
   ]
  },
  {
   "cell_type": "code",
   "execution_count": 62,
   "id": "0f4cc098",
   "metadata": {},
   "outputs": [
    {
     "name": "stdout",
     "output_type": "stream",
     "text": [
      "You are great\n",
      "Because you have made your first decorator\n",
      "Function is executed\n"
     ]
    }
   ],
   "source": [
    "def deco(a):\n",
    "    def inner():\n",
    "        print('You are great')\n",
    "        o=a()\n",
    "        print('Function is executed')\n",
    "        return o\n",
    "    return inner()\n",
    "@deco\n",
    "def new(*q):\n",
    "    print('Because you have made your first decorator')"
   ]
  },
  {
   "cell_type": "code",
   "execution_count": 63,
   "id": "3a267c74",
   "metadata": {},
   "outputs": [
    {
     "ename": "TypeError",
     "evalue": "'NoneType' object is not callable",
     "output_type": "error",
     "traceback": [
      "\u001b[1;31m---------------------------------------------------------------------------\u001b[0m",
      "\u001b[1;31mTypeError\u001b[0m                                 Traceback (most recent call last)",
      "Input \u001b[1;32mIn [63]\u001b[0m, in \u001b[0;36m<cell line: 1>\u001b[1;34m()\u001b[0m\n\u001b[1;32m----> 1\u001b[0m \u001b[43mnew\u001b[49m\u001b[43m(\u001b[49m\u001b[43m)\u001b[49m\n",
      "\u001b[1;31mTypeError\u001b[0m: 'NoneType' object is not callable"
     ]
    }
   ],
   "source": [
    "new()"
   ]
  },
  {
   "cell_type": "code",
   "execution_count": null,
   "id": "21e2020c",
   "metadata": {},
   "outputs": [],
   "source": []
  }
 ],
 "metadata": {
  "kernelspec": {
   "display_name": "Python 3 (ipykernel)",
   "language": "python",
   "name": "python3"
  },
  "language_info": {
   "codemirror_mode": {
    "name": "ipython",
    "version": 3
   },
   "file_extension": ".py",
   "mimetype": "text/x-python",
   "name": "python",
   "nbconvert_exporter": "python",
   "pygments_lexer": "ipython3",
   "version": "3.9.12"
  }
 },
 "nbformat": 4,
 "nbformat_minor": 5
}
